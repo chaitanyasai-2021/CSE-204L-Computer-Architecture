{
 "cells": [
  {
   "cell_type": "markdown",
   "id": "a58afa8b",
   "metadata": {},
   "source": [
    "# AP21110010219 Sai Rohith Gogineni\n",
    "# AP21110010200 Uday Chaganti\n",
    "# AP21110010260 Ritesh\n",
    "# AP21110010253 Chaitanya\n",
    "# AP21110010228 Jithin"
   ]
  },
  {
   "cell_type": "code",
   "execution_count": 6,
   "id": "b43ae61f",
   "metadata": {},
   "outputs": [
    {
     "name": "stdout",
     "output_type": "stream",
     "text": [
      "a. Average number of likes received: 17918.73214285714\n",
      "b.  Average number of posts: 10.285714285714286\n",
      "c. Median age: 20.0\n",
      "d. User with more number of friends: Asis\n"
     ]
    }
   ],
   "source": [
    "import pandas as pd\n",
    "\n",
    "# Function to calculate mean\n",
    "def calculate_mean(data):\n",
    "    return sum(data) / len(data)\n",
    "\n",
    "# Function to calculate median\n",
    "def calculate_median(data):\n",
    "    sorted_data = sorted(data)\n",
    "    n = len(sorted_data)\n",
    "    if n % 2 == 0:\n",
    "        return (sorted_data[n // 2 - 1] + sorted_data[n // 2]) / 2\n",
    "    else:\n",
    "        return sorted_data[n // 2]\n",
    "\n",
    "# Function to calculate mode\n",
    "def calculate_mode(data):\n",
    "    freq_dict = {}\n",
    "    for item in data:\n",
    "        freq_dict[item] = freq_dict.get(item, 0) + 1\n",
    "    mode = max(freq_dict, key=freq_dict.get)\n",
    "    return mode\n",
    "\n",
    "# Read data from Excel file\n",
    "data = pd.read_excel(r\"C:\\Users\\vinee\\OneDrive\\Desktop\\Copy of Social Media Data Collection.xlsx\")\n",
    "\n",
    "# Extract required columns\n",
    "likes_received = data['Number of likes, recieved']\n",
    "num_posts = data['Number of posts']\n",
    "ages = data['Age']\n",
    "friends = data['Followers']\n",
    "\n",
    "# Calculate central tendency measures\n",
    "average_likes_received = calculate_mean(likes_received)\n",
    "average_num_posts = calculate_mean(num_posts)\n",
    "median_age = calculate_median(ages)\n",
    "user_with_most_friends = data.loc[data['Followers'].idxmax(), 'Instagram Username']\n",
    "\n",
    "# Output\n",
    "print(\"a. Average number of likes received:\", average_likes_received)\n",
    "print(\"b.  Average number of posts:\", average_num_posts)\n",
    "print(\"c. Median age:\", median_age)\n",
    "print(\"d. User with more number of friends:\", user_with_most_friends)"
   ]
  },
  {
   "cell_type": "code",
   "execution_count": null,
   "id": "cdb6fa60",
   "metadata": {},
   "outputs": [],
   "source": []
  }
 ],
 "metadata": {
  "kernelspec": {
   "display_name": "Python 3 (ipykernel)",
   "language": "python",
   "name": "python3"
  },
  "language_info": {
   "codemirror_mode": {
    "name": "ipython",
    "version": 3
   },
   "file_extension": ".py",
   "mimetype": "text/x-python",
   "name": "python",
   "nbconvert_exporter": "python",
   "pygments_lexer": "ipython3",
   "version": "3.9.12"
  }
 },
 "nbformat": 4,
 "nbformat_minor": 5
}
