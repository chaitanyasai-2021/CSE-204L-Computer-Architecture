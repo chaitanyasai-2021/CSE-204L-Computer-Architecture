{
 "cells": [
  {
   "cell_type": "code",
   "execution_count": null,
   "metadata": {},
   "outputs": [],
   "source": [
    "import pandas as pd"
   ]
  },
  {
   "cell_type": "code",
   "execution_count": 12,
   "metadata": {},
   "outputs": [],
   "source": [
    "data ={\n",
    "    'Column1': [180000, 360000, 230000, 60000],\n",
    "    'Column2': [110, 905, 230, 450],\n",
    "    'Column3': [18.9, 23.4, 14.0, 13.5],\n",
    "    'Column4': [1400, 1800, 1300, 1500]\n",
    "}\n",
    "df=pd.DataFrame(data)\n",
    "df.to_csv(\"input2.csv\",index=False)"
   ]
  },
  {
   "cell_type": "code",
   "execution_count": 13,
   "metadata": {},
   "outputs": [],
   "source": [
    "ndf=pd.read_csv(\"input2.csv\")\n",
    "\n",
    "def min_max(column):\n",
    "    min_val = column.min()\n",
    "    max_val = column.max()\n",
    "    normalized_column = (column - min_val) / (max_val - min_val)    \n",
    "    return normalized_column\n",
    "\n",
    "normalized = ndf.apply(min_max)\n"
   ]
  },
  {
   "cell_type": "code",
   "execution_count": 15,
   "metadata": {},
   "outputs": [],
   "source": [
    "normalized.to_csv(\"output2.csv\",index=False)"
   ]
  },
  {
   "cell_type": "code",
   "execution_count": null,
   "metadata": {},
   "outputs": [],
   "source": []
  }
 ],
 "metadata": {
  "kernelspec": {
   "display_name": "Python 3",
   "language": "python",
   "name": "python3"
  },
  "language_info": {
   "codemirror_mode": {
    "name": "ipython",
    "version": 3
   },
   "file_extension": ".py",
   "mimetype": "text/x-python",
   "name": "python",
   "nbconvert_exporter": "python",
   "pygments_lexer": "ipython3",
   "version": "3.7.5"
  },
  "orig_nbformat": 4
 },
 "nbformat": 4,
 "nbformat_minor": 2
}
