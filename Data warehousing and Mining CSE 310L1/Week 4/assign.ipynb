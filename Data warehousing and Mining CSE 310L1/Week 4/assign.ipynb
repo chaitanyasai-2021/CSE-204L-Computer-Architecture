{
 "cells": [
  {
   "cell_type": "code",
   "execution_count": 1,
   "metadata": {},
   "outputs": [],
   "source": [
    "import pandas as pd"
   ]
  },
  {
   "cell_type": "code",
   "execution_count": 2,
   "metadata": {},
   "outputs": [],
   "source": [
    "data = {\n",
    "    'Employee id': [20005,20006,20007,20008,20009,20010,20011,20012],\n",
    "    'date': ['05-01-2019','10-01-2019', '01-02-2019','05-02-2019','01-03-2019','02-03-2019','02-04-2019','05-04-2019']\n",
    "}"
   ]
  },
  {
   "cell_type": "code",
   "execution_count": 3,
   "metadata": {},
   "outputs": [],
   "source": [
    "df=pd.DataFrame(data)\n",
    "df.to_csv('Employee_data.csv',index=False)"
   ]
  },
  {
   "cell_type": "code",
   "execution_count": 16,
   "metadata": {},
   "outputs": [],
   "source": [
    "ndf=pd.read_csv(\"Employee_data.csv\")\n",
    "\n",
    "ndf['date'] = pd.to_datetime(ndf['date'])\n",
    "ndf['day'] = ndf['date'].dt.day\n",
    "ndf['month'] = ndf['date'].dt.month\n",
    "ndf['year'] = ndf['date'].dt.year\n",
    "\n",
    "ndf.drop(columns=['date'],inplace=True)\n",
    "ndf.to_csv(\"output.csv\",index=False)"
   ]
  },
  {
   "cell_type": "code",
   "execution_count": null,
   "metadata": {},
   "outputs": [],
   "source": []
  }
 ],
 "metadata": {
  "kernelspec": {
   "display_name": "Python 3",
   "language": "python",
   "name": "python3"
  },
  "language_info": {
   "codemirror_mode": {
    "name": "ipython",
    "version": 3
   },
   "file_extension": ".py",
   "mimetype": "text/x-python",
   "name": "python",
   "nbconvert_exporter": "python",
   "pygments_lexer": "ipython3",
   "version": "3.7.5"
  },
  "orig_nbformat": 4
 },
 "nbformat": 4,
 "nbformat_minor": 2
}
